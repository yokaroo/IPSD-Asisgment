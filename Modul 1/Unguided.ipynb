{
 "cells": [
  {
   "cell_type": "code",
   "execution_count": 27,
   "id": "3bbfeece-53bb-4c4c-9e1b-50355b706b3f",
   "metadata": {},
   "outputs": [
    {
     "name": "stdout",
     "output_type": "stream",
     "text": [
      "2\n",
      "3 5\n",
      "7 11 13\n",
      "17 19 23 29\n"
     ]
    }
   ],
   "source": [
    "def cek_prima(n):\n",
    "    \"\"\"Cek jika sebuah bilangan adalah prima\"\"\"\n",
    "    if n <= 1:\n",
    "        return False\n",
    "    for i in range(2, int(n ** 0.5) + 1):\n",
    "        if n % i == 0:\n",
    "            return False\n",
    "    return True\n",
    "\n",
    "def generate_poligon_prima(n):\n",
    "    \"\"\"Generate poligon prima hingga n baris\"\"\"\n",
    "    prima = []\n",
    "    jumlah_prima = 0\n",
    "    num = 2\n",
    "    while jumlah_prima < n * (n + 1) // 2:\n",
    "        if cek_prima(num):\n",
    "            prima.append(num)\n",
    "            jumlah_prima += 1\n",
    "        num += 1\n",
    "\n",
    "    poligon = []\n",
    "    for i in range(1, n + 1):\n",
    "        poligon.append(prima[:i])\n",
    "        prima = prima[i:]\n",
    "\n",
    "    return poligon\n",
    "\n",
    "def cetak_poligon(poligon):\n",
    "    \"\"\"Cetak poligon dalam format yang diinginkan\"\"\"\n",
    "    for baris in poligon:\n",
    "        print(' '.join(str(x) for x in baris))\n",
    "\n",
    "n = 4  \n",
    "poligon = generate_poligon_prima(n)\n",
    "cetak_poligon(poligon)"
   ]
  },
  {
   "cell_type": "code",
   "execution_count": 49,
   "id": "f6ee9438-11fd-418b-bccf-fc8c284064e9",
   "metadata": {},
   "outputs": [
    {
     "name": "stdout",
     "output_type": "stream",
     "text": [
      "[9, 7, 5, 3, 1]\n"
     ]
    }
   ],
   "source": [
    "def filter_elemen_indeks_ganjil(list1, list2):\n",
    "    gabungan = list1 + list2\n",
    "    \n",
    "    hasil = [gabungan[i] for i in range(len(gabungan)) if i % 2 != 0 and gabungan[i] % 2 != 0]\n",
    "    \n",
    "    for i in range(len(gabungan)):\n",
    "        if gabungan[i] % 2 != 0 and i % 2 == 0:\n",
    "            hasil.append(gabungan[i])\n",
    "    \n",
    "    hasil.sort(reverse=True)\n",
    "    \n",
    "    return hasil\n",
    "\n",
    "list1 = [1, 2, 3, 4, 5]\n",
    "list2 = [6, 7, 8, 9, 10]\n",
    "\n",
    "hasil = filter_elemen_indeks_ganjil(list1, list2)\n",
    "print(hasil) "
   ]
  },
  {
   "cell_type": "code",
   "execution_count": 45,
   "id": "6e5c8cf6-4bf6-40ab-8ce9-8c145cdfbe0a",
   "metadata": {},
   "outputs": [
    {
     "name": "stdin",
     "output_type": "stream",
     "text": [
      "Masukkan PIN Anda:  1\n"
     ]
    },
    {
     "name": "stdout",
     "output_type": "stream",
     "text": [
      "PIN salah. Silakan coba lagi.\n"
     ]
    },
    {
     "name": "stdin",
     "output_type": "stream",
     "text": [
      "Masukkan PIN Anda:  123\n"
     ]
    },
    {
     "name": "stdout",
     "output_type": "stream",
     "text": [
      "PIN salah. Silakan coba lagi.\n"
     ]
    },
    {
     "name": "stdin",
     "output_type": "stream",
     "text": [
      "Masukkan PIN Anda:  1234\n",
      "Masukkan jumlah penarikan:  25000\n"
     ]
    },
    {
     "name": "stdout",
     "output_type": "stream",
     "text": [
      "Penarikan sebesar Rp 25000 berhasil. Saldo akhir: Rp 75000\n"
     ]
    }
   ],
   "source": [
    "saldo = 100000\n",
    "\n",
    "def minta_pin():\n",
    "    for i in range(3):\n",
    "        pin = input(\"Masukkan PIN Anda: \")\n",
    "        if pin == \"1234\": \n",
    "            return True\n",
    "        else:\n",
    "            print(\"PIN salah. Silakan coba lagi.\")\n",
    "    print(\"PIN salah sebanyak 3 kali. Transaksi dibatalkan.\")\n",
    "    return False\n",
    "\n",
    "def minta_jumlah_penarikan():\n",
    "    while True:\n",
    "        try:\n",
    "            jumlah_penarikan = int(input(\"Masukkan jumlah penarikan: \"))\n",
    "            if jumlah_penarikan <= 0:\n",
    "                print(\"Jumlah penarikan harus lebih besar dari 0.\")\n",
    "            else:\n",
    "                return jumlah_penarikan\n",
    "        except ValueError:\n",
    "            print(\"Jumlah penarikan harus berupa angka.\")\n",
    "\n",
    "def lakukan_penarikan(jumlah_penarikan):\n",
    "    global saldo\n",
    "    if jumlah_penarikan > saldo:\n",
    "        print(\"Saldo tidak cukup. Transaksi dibatalkan.\")\n",
    "    else:\n",
    "        saldo -= jumlah_penarikan\n",
    "        print(f\"Penarikan sebesar Rp {jumlah_penarikan} berhasil. Saldo akhir: Rp {saldo}\")\n",
    "\n",
    "if minta_pin():\n",
    "    jumlah_penarikan = minta_jumlah_penarikan()\n",
    "    lakukan_penarikan(jumlah_penarikan)"
   ]
  },
  {
   "cell_type": "code",
   "execution_count": 34,
   "id": "536bc75e-ff40-41c8-97df-dee5d85ab84b",
   "metadata": {},
   "outputs": [
    {
     "name": "stdout",
     "output_type": "stream",
     "text": [
      "Rata-rata nilai tiap mahasiswa:\n",
      "Siswa_1: 59.00\n",
      "Siswa_2: 79.00\n",
      "Siswa_3: 61.00\n",
      "Siswa_4: 74.00\n",
      "Siswa_5: 50.00\n",
      "Siswa_6: 70.00\n",
      "Siswa_7: 100.00\n",
      "Siswa_8: 84.00\n",
      "Siswa_9: 78.00\n",
      "Siswa_10: 61.00\n",
      "Siswa_11: 92.00\n",
      "Siswa_12: 60.00\n",
      "Siswa_13: 78.00\n",
      "Siswa_14: 87.00\n",
      "Siswa_15: 57.00\n",
      "Siswa_16: 73.00\n",
      "Siswa_17: 53.00\n",
      "Siswa_18: 54.00\n",
      "Siswa_19: 97.00\n",
      "Siswa_20: 52.00\n",
      "Siswa_21: 84.00\n",
      "Siswa_22: 89.00\n",
      "Siswa_23: 52.00\n",
      "Siswa_24: 90.00\n",
      "Siswa_25: 52.00\n",
      "Siswa_26: 64.00\n",
      "Siswa_27: 96.00\n",
      "Siswa_28: 100.00\n",
      "Siswa_29: 84.00\n",
      "Siswa_30: 60.00\n",
      "Siswa_31: 85.00\n",
      "Siswa_32: 63.00\n",
      "Siswa_33: 64.00\n",
      "Siswa_34: 68.00\n",
      "Siswa_35: 67.00\n",
      "Siswa_36: 52.00\n",
      "Siswa_37: 79.00\n",
      "Siswa_38: 55.00\n",
      "Siswa_39: 88.00\n",
      "Siswa_40: 95.00\n",
      "Siswa_41: 78.00\n",
      "Siswa_42: 66.00\n",
      "Siswa_43: 71.00\n",
      "Siswa_44: 64.00\n",
      "Siswa_45: 51.00\n",
      "Siswa_46: 77.00\n",
      "Siswa_47: 90.00\n",
      "Siswa_48: 83.00\n",
      "Siswa_49: 99.00\n",
      "Siswa_50: 56.00\n",
      "Siswa_51: 68.00\n",
      "Siswa_52: 88.00\n",
      "Siswa_53: 62.00\n",
      "Siswa_54: 98.00\n",
      "Siswa_55: 58.00\n",
      "Siswa_56: 92.00\n",
      "Siswa_57: 60.00\n",
      "Siswa_58: 55.00\n",
      "Siswa_59: 93.00\n",
      "Siswa_60: 60.00\n",
      "Siswa_61: 53.00\n",
      "Siswa_62: 79.00\n",
      "Siswa_63: 75.00\n",
      "Siswa_64: 83.00\n",
      "Siswa_65: 58.00\n",
      "Siswa_66: 50.00\n",
      "Siswa_67: 75.00\n",
      "Siswa_68: 61.00\n",
      "Siswa_69: 57.00\n",
      "Siswa_70: 98.00\n",
      "Siswa_71: 85.00\n",
      "Siswa_72: 57.00\n",
      "Siswa_73: 53.00\n",
      "Siswa_74: 55.00\n",
      "Siswa_75: 54.00\n",
      "Siswa_76: 64.00\n",
      "Siswa_77: 51.00\n",
      "Siswa_78: 65.00\n",
      "Siswa_79: 68.00\n",
      "Siswa_80: 51.00\n",
      "Siswa_81: 99.00\n",
      "Siswa_82: 89.00\n",
      "Siswa_83: 92.00\n",
      "Siswa_84: 56.00\n",
      "Siswa_85: 96.00\n",
      "Siswa_86: 79.00\n",
      "Siswa_87: 76.00\n",
      "Siswa_88: 71.00\n",
      "Siswa_89: 98.00\n",
      "Siswa_90: 89.00\n",
      "Siswa_91: 92.00\n",
      "Siswa_92: 65.00\n",
      "Siswa_93: 50.00\n",
      "Siswa_94: 84.00\n",
      "Siswa_95: 67.00\n",
      "Siswa_96: 59.00\n",
      "Siswa_97: 57.00\n",
      "Siswa_98: 70.00\n",
      "Siswa_99: 66.00\n",
      "Siswa_100: 78.00\n",
      "\n",
      "Mahasiswa dengan nilai tertinggi: Siswa_7 (100.00)\n",
      "Mahasiswa dengan nilai terendah: Siswa_5 (50.00)\n"
     ]
    }
   ],
   "source": [
    "import csv\n",
    "\n",
    "def baca_data_csv(file_name):\n",
    "    data_mahasiswa = {}\n",
    "    with open(file_name, mode='r') as file:\n",
    "        reader = csv.reader(file)\n",
    "        header = next(reader)\n",
    "        \n",
    "        for row in reader:\n",
    "            nama = row[0]\n",
    "            nilai = list(map(float, row[1:]))\n",
    "            data_mahasiswa[nama] = nilai\n",
    "            \n",
    "    return data_mahasiswa\n",
    "\n",
    "def hitung_rata_rata(data_mahasiswa):\n",
    "    rata_rata = {}\n",
    "    for nama, nilai in data_mahasiswa.items():\n",
    "        rata_rata[nama] = sum(nilai) / len(nilai)\n",
    "    return rata_rata\n",
    "\n",
    "def mahasiswa_tertinggi_terendah(rata_rata):\n",
    "    mahasiswa_tertinggi = max(rata_rata, key=rata_rata.get)\n",
    "    mahasiswa_terendah = min(rata_rata, key=rata_rata.get)\n",
    "    return mahasiswa_tertinggi, mahasiswa_terendah\n",
    "\n",
    "def main():\n",
    "    file_name = 'siswa_nilai.csv'\n",
    "    data_mahasiswa = baca_data_csv(file_name)\n",
    "    rata_rata = hitung_rata_rata(data_mahasiswa)\n",
    "    mahasiswa_tertinggi, mahasiswa_terendah = mahasiswa_tertinggi_terendah(rata_rata)\n",
    "    print(\"Rata-rata nilai tiap mahasiswa:\")\n",
    "    for nama, rata in rata_rata.items():\n",
    "        print(f\"{nama}: {rata:.2f}\")\n",
    "    \n",
    "    print(f\"\\nMahasiswa dengan nilai tertinggi: {mahasiswa_tertinggi} ({rata_rata[mahasiswa_tertinggi]:.2f})\")\n",
    "    print(f\"Mahasiswa dengan nilai terendah: {mahasiswa_terendah} ({rata_rata[mahasiswa_terendah]:.2f})\")\n",
    "if __name__ == \"__main__\":\n",
    "    main()"
   ]
  },
  {
   "cell_type": "code",
   "execution_count": 40,
   "id": "96f53030-b056-4005-b3cf-3ff8f7fc3142",
   "metadata": {},
   "outputs": [
    {
     "name": "stdout",
     "output_type": "stream",
     "text": [
      "Selamat datang di permainan tebak angka!\n",
      "Komputer telah memilih sebuah angka antara 1 hingga 100.\n",
      "Anda memiliki 5 kesempatan untuk menebak angka tersebut.\n"
     ]
    },
    {
     "name": "stdin",
     "output_type": "stream",
     "text": [
      "Masukkan tebakan Anda:  50\n"
     ]
    },
    {
     "name": "stdout",
     "output_type": "stream",
     "text": [
      "Angka yang Anda tebak terlalu kecil. Coba lagi!\n",
      "Anda memiliki 4 kesempatan lagi.\n"
     ]
    },
    {
     "name": "stdin",
     "output_type": "stream",
     "text": [
      "Masukkan tebakan Anda:  60\n"
     ]
    },
    {
     "name": "stdout",
     "output_type": "stream",
     "text": [
      "Angka yang Anda tebak terlalu kecil. Coba lagi!\n",
      "Anda memiliki 3 kesempatan lagi.\n"
     ]
    },
    {
     "name": "stdin",
     "output_type": "stream",
     "text": [
      "Masukkan tebakan Anda:  70\n"
     ]
    },
    {
     "name": "stdout",
     "output_type": "stream",
     "text": [
      "Angka yang Anda tebak terlalu kecil. Coba lagi!\n",
      "Anda memiliki 2 kesempatan lagi.\n"
     ]
    },
    {
     "name": "stdin",
     "output_type": "stream",
     "text": [
      "Masukkan tebakan Anda:  80\n"
     ]
    },
    {
     "name": "stdout",
     "output_type": "stream",
     "text": [
      "Angka yang Anda tebak terlalu kecil. Coba lagi!\n",
      "Anda memiliki 1 kesempatan lagi.\n"
     ]
    },
    {
     "name": "stdin",
     "output_type": "stream",
     "text": [
      "Masukkan tebakan Anda:  90\n"
     ]
    },
    {
     "name": "stdout",
     "output_type": "stream",
     "text": [
      "Angka yang Anda tebak terlalu besar. Coba lagi!\n",
      "Anda memiliki 0 kesempatan lagi.\n",
      "Sayangnya, Anda telah kehabisan kesempatan. Angka yang benar adalah 83.\n"
     ]
    }
   ],
   "source": [
    "import random\n",
    "\n",
    "angka_sebenarnya = random.randint(1, 100)\n",
    "jumlah_percobaan = 5\n",
    "\n",
    "print(\"Selamat datang di permainan tebak angka!\")\n",
    "print(\"Komputer telah memilih sebuah angka antara 1 hingga 100.\")\n",
    "print(\"Anda memiliki 5 kesempatan untuk menebak angka tersebut.\")\n",
    "\n",
    "for i in range(jumlah_percobaan):\n",
    "    tebakan = int(input(\"Masukkan tebakan Anda: \"))\n",
    "    if tebakan == angka_sebenarnya:\n",
    "        print(\"Selamat! Anda telah menebak angka dengan benar!\")\n",
    "        break\n",
    "    elif tebakan < angka_sebenarnya:\n",
    "        print(\"Angka yang Anda tebak terlalu kecil. Coba lagi!\")\n",
    "    else:\n",
    "        print(\"Angka yang Anda tebak terlalu besar. Coba lagi!\")\n",
    "\n",
    "    jumlah_percobaan -= 1\n",
    "    print(f\"Anda memiliki {jumlah_percobaan} kesempatan lagi.\")\n",
    "\n",
    "if jumlah_percobaan == 0:\n",
    "    print(f\"Sayangnya, Anda telah kehabisan kesempatan. Angka yang benar adalah {angka_sebenarnya}.\")"
   ]
  },
  {
   "cell_type": "code",
   "execution_count": 14,
   "id": "73e8517b-546b-4848-b54d-df33ce9112ff",
   "metadata": {},
   "outputs": [
    {
     "name": "stdout",
     "output_type": "stream",
     "text": [
      "[1, 2, 6, 24]\n"
     ]
    }
   ],
   "source": [
    "def urutan_bilangan(n):\n",
    "    if n == 1:\n",
    "        return [1]\n",
    "    else:\n",
    "        urutan_sebelumnya = urutan_bilangan(n - 1)\n",
    "        urutan_sebelumnya.append(urutan_sebelumnya[-1] * n)\n",
    "        return urutan_sebelumnya\n",
    "n = 4\n",
    "print(urutan_bilangan(n))  "
   ]
  },
  {
   "cell_type": "code",
   "execution_count": 41,
   "id": "daeaed7b-ea00-435c-9ab4-78f799034c6f",
   "metadata": {},
   "outputs": [
    {
     "name": "stdin",
     "output_type": "stream",
     "text": [
      "Masukkan jumlah uang:  25\n",
      "Masukkan nilai koin (pisahkan dengan spasi):  1 2 3 4 5 6 7 8 9 10 11 12 13 14 15 16 17 18 19 20 21 22 23 24 25\n"
     ]
    },
    {
     "name": "stdout",
     "output_type": "stream",
     "text": [
      "Kombinasi minimum koin yang diperlukan:\n",
      "25 koin\n"
     ]
    }
   ],
   "source": [
    "def minimum_coin_change(jumlah_uang, nilai_koin):\n",
    "    tabel = [float('inf')] * (jumlah_uang + 1)\n",
    "    tabel[0] = 0\n",
    "\n",
    "    for koin in nilai_koin:\n",
    "        for i in range(koin, jumlah_uang + 1):\n",
    "            tabel[i] = min(tabel[i], tabel[i - koin] + 1)\n",
    "\n",
    "    if tabel[jumlah_uang] == float('inf'):\n",
    "        print(\"Tidak ada kombinasi koin yang dapat mencapai jumlah uang tersebut.\")\n",
    "    else:\n",
    "        print(\"Kombinasi minimum koin yang diperlukan:\")\n",
    "        i = jumlah_uang\n",
    "        while i > 0:\n",
    "            for koin in nilai_koin:\n",
    "                if tabel[i] == tabel[i - koin] + 1:\n",
    "                    print(f\"{koin} koin\")\n",
    "                    i -= koin\n",
    "                    break\n",
    "\n",
    "jumlah_uang = int(input(\"Masukkan jumlah uang: \"))\n",
    "nilai_koin = list(map(int, input(\"Masukkan nilai koin (pisahkan dengan spasi): \").split()))\n",
    "minimum_coin_change(jumlah_uang, nilai_koin)"
   ]
  },
  {
   "cell_type": "code",
   "execution_count": 42,
   "id": "5f21db25-cc55-4f41-a0e3-98f496d3ba79",
   "metadata": {},
   "outputs": [
    {
     "name": "stdin",
     "output_type": "stream",
     "text": [
      "Masukkan string:  Saya Suka Python\n"
     ]
    },
    {
     "name": "stdout",
     "output_type": "stream",
     "text": [
      "['ayaS', 'akuS', 'nohtyP']\n"
     ]
    }
   ],
   "source": [
    "def string_to_reversed_words(input_string):\n",
    "    kata_kata = input_string.split()\n",
    "\n",
    "    kata_kata_terbalik = [kata[::-1] for kata in kata_kata]\n",
    "\n",
    "    return kata_kata_terbalik\n",
    "\n",
    "input_string = input(\"Masukkan string: \")\n",
    "output = string_to_reversed_words(input_string)\n",
    "print(output)"
   ]
  },
  {
   "cell_type": "code",
   "execution_count": 20,
   "id": "c4df4416-34d3-4755-b380-bd34f0df3792",
   "metadata": {},
   "outputs": [
    {
     "name": "stdout",
     "output_type": "stream",
     "text": [
      "Informasi Buku 1:\n",
      "Judul: Algoritma Python\n",
      "Penulis: Ruseli\n",
      "Tahun Terbit: 2010\n",
      "Usia: 14 tahun\n",
      "\n",
      "Informasi Buku 2:\n",
      "Judul: Dasar-Dasar Algoritma\n",
      "Penulis: Willy Smith\n",
      "Tahun Terbit: 2015\n",
      "Usia: 9 tahun\n",
      "\n",
      "Informasi Buku 3:\n",
      "Judul: Pengenalan Machine Learning\n",
      "Penulis: Cole Ashley\n",
      "Tahun Terbit: 2020\n",
      "Usia: 4 tahun\n"
     ]
    }
   ],
   "source": [
    "from datetime import date\n",
    "\n",
    "class Buku:\n",
    "    def __init__(self, judul, penulis, tahun_terbit):\n",
    "        self.judul = judul\n",
    "        self.penulis = penulis\n",
    "        self.tahun_terbit = tahun_terbit\n",
    "\n",
    "    def tampilkan_informasi(self):\n",
    "        print(f\"Judul: {self.judul}\")\n",
    "        print(f\"Penulis: {self.penulis}\")\n",
    "        print(f\"Tahun Terbit: {self.tahun_terbit}\")\n",
    "\n",
    "    def hitung_usia(self):\n",
    "        tahun_saat_ini = date.today().year\n",
    "        usia = tahun_saat_ini - self.tahun_terbit\n",
    "        return usia\n",
    "\n",
    "buku1 = Buku(\"Algoritma Python\", \"Ruseli\", 2010)\n",
    "buku2 = Buku(\"Dasar-Dasar Algoritma\", \"Willy Smith\", 2015)\n",
    "buku3 = Buku(\"Pengenalan Machine Learning\", \"Cole Ashley\", 2020)\n",
    "\n",
    "print(\"Informasi Buku 1:\")\n",
    "buku1.tampilkan_informasi()\n",
    "print(f\"Usia: {buku1.hitung_usia()} tahun\")\n",
    "print()\n",
    "\n",
    "print(\"Informasi Buku 2:\")\n",
    "buku2.tampilkan_informasi()\n",
    "print(f\"Usia: {buku2.hitung_usia()} tahun\")\n",
    "print()\n",
    "\n",
    "print(\"Informasi Buku 3:\")\n",
    "buku3.tampilkan_informasi()\n",
    "print(f\"Usia: {buku3.hitung_usia()} tahun\")"
   ]
  },
  {
   "cell_type": "code",
   "execution_count": 43,
   "id": "995576f4-8321-48fc-9d8f-dd0755107eba",
   "metadata": {},
   "outputs": [
    {
     "name": "stdout",
     "output_type": "stream",
     "text": [
      "Nilai 12 ditemukan pada indeks 5\n",
      "Nilai yang dicari tidak bisa ditemukan karena merupakan angka ganjil\n",
      "Nilai yang dicari tidak ditemukan\n"
     ]
    }
   ],
   "source": [
    "def pencarian_biner(list_angka, target):\n",
    "    if target % 2 != 0:\n",
    "        return \"Nilai yang dicari tidak bisa ditemukan karena merupakan angka ganjil\"\n",
    "\n",
    "    awal = 0\n",
    "    akhir = len(list_angka) - 1\n",
    "\n",
    "    while awal <= akhir:\n",
    "        tengah = (awal + akhir) // 2\n",
    "        if list_angka[tengah] == target:\n",
    "            return f\"Nilai {target} ditemukan pada indeks {tengah}\"\n",
    "\n",
    "        elif target < list_angka[tengah]:\n",
    "            akhir = tengah - 1\n",
    "\n",
    "        else:\n",
    "            awal = tengah + 1\n",
    "\n",
    "    return \"Nilai yang dicari tidak ditemukan\"\n",
    "\n",
    "list_angka = [2, 4, 6, 8, 10, 12, 14, 16, 18, 20]\n",
    "target = 12\n",
    "print(pencarian_biner(list_angka, target))  \n",
    "\n",
    "target = 11\n",
    "print(pencarian_biner(list_angka, target))  \n",
    "\n",
    "target = 22\n",
    "print(pencarian_biner(list_angka, target))  "
   ]
  },
  {
   "cell_type": "code",
   "execution_count": null,
   "id": "ecda1c31-b90a-4f0f-bc72-782c37728f58",
   "metadata": {},
   "outputs": [],
   "source": []
  }
 ],
 "metadata": {
  "kernelspec": {
   "display_name": "Python 3 (ipykernel)",
   "language": "python",
   "name": "python3"
  },
  "language_info": {
   "codemirror_mode": {
    "name": "ipython",
    "version": 3
   },
   "file_extension": ".py",
   "mimetype": "text/x-python",
   "name": "python",
   "nbconvert_exporter": "python",
   "pygments_lexer": "ipython3",
   "version": "3.12.4"
  }
 },
 "nbformat": 4,
 "nbformat_minor": 5
}
